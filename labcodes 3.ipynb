{
  "nbformat": 4,
  "nbformat_minor": 0,
  "metadata": {
    "colab": {
      "provenance": [],
      "authorship_tag": "ABX9TyMQFonE+p/1P7k1WkQwOB7n",
      "include_colab_link": true
    },
    "kernelspec": {
      "name": "python3",
      "display_name": "Python 3"
    },
    "language_info": {
      "name": "python"
    }
  },
  "cells": [
    {
      "cell_type": "markdown",
      "metadata": {
        "id": "view-in-github",
        "colab_type": "text"
      },
      "source": [
        "<a href=\"https://colab.research.google.com/github/MADHUPRIYAAA/2303a51583-batch-22/blob/main/labcodes%203.ipynb\" target=\"_parent\"><img src=\"https://colab.research.google.com/assets/colab-badge.svg\" alt=\"Open In Colab\"/></a>"
      ]
    },
    {
      "cell_type": "code",
      "source": [
        "fp = open(\"example.txt\",\"w\")\n",
        "fp.write(\"Hello, B.Tech students!\\n\")\n",
        "fp.write(\"This is file handling in python.\\n\")\n",
        "fp.write(\"sr university\\n\")\n",
        "fp.write(\"madhupriya\")\n",
        "fp.close()\n",
        "print(\"Data written successfully\")"
      ],
      "metadata": {
        "colab": {
          "base_uri": "https://localhost:8080/"
        },
        "id": "U4u-N0Bk7mb4",
        "outputId": "afdaddab-22c9-44bf-cd1c-d0658c92e06b"
      },
      "execution_count": 18,
      "outputs": [
        {
          "output_type": "stream",
          "name": "stdout",
          "text": [
            "Data written successfully\n"
          ]
        }
      ]
    },
    {
      "cell_type": "code",
      "source": [
        "file=open(\"example.txt\",\"r\")\n",
        "content=file.read()\n",
        "print(\"file content:\\n\",content)\n",
        "file.close()"
      ],
      "metadata": {
        "colab": {
          "base_uri": "https://localhost:8080/"
        },
        "id": "T4JWgCFQ8ju6",
        "outputId": "3a65f3e3-e27e-40be-8090-158cb4148929"
      },
      "execution_count": 19,
      "outputs": [
        {
          "output_type": "stream",
          "name": "stdout",
          "text": [
            "file content:\n",
            " Hello, B.Tech students!\n",
            "This is file handling in python.\n",
            "sr university\n",
            "madhupriya\n"
          ]
        }
      ]
    },
    {
      "cell_type": "code",
      "source": [
        "file=open(\"example.txt\",\"r\")\n",
        "line1=file.readline()\n",
        "print(\"first line:\",line1)\n",
        "line2=file.readline()\n",
        "print(\"second line:\",line2)\n",
        "line3=file.readline()\n",
        "print(\"third line:\",line3)\n",
        "file.close()"
      ],
      "metadata": {
        "colab": {
          "base_uri": "https://localhost:8080/"
        },
        "id": "bH4is5u789NR",
        "outputId": "42e03a4d-a93b-4597-add5-3c5d416e3f5f"
      },
      "execution_count": 20,
      "outputs": [
        {
          "output_type": "stream",
          "name": "stdout",
          "text": [
            "first line: Hello, B.Tech students!\n",
            "\n",
            "second line: This is file handling in python.\n",
            "\n",
            "third line: sr university\n",
            "\n"
          ]
        }
      ]
    },
    {
      "cell_type": "code",
      "source": [
        "file=open(\"example.txt\",\"r\")\n",
        "lines=file.readlines()\n",
        "print(\"list of lines:\",lines)\n",
        "file.close()"
      ],
      "metadata": {
        "colab": {
          "base_uri": "https://localhost:8080/"
        },
        "id": "58vEXp1G--Om",
        "outputId": "a96d9c70-6032-45e4-d5ea-6376c0cf14cc"
      },
      "execution_count": 21,
      "outputs": [
        {
          "output_type": "stream",
          "name": "stdout",
          "text": [
            "list of lines: ['Hello, B.Tech students!\\n', 'This is file handling in python.\\n', 'sr university\\n', 'madhupriya']\n"
          ]
        }
      ]
    },
    {
      "cell_type": "code",
      "source": [
        "#appending data to an existing file\n",
        "file=open(\"example.txt\",\"a\")\n",
        "file.write(\"Appending new data..\\n\")\n",
        "file.close()"
      ],
      "metadata": {
        "id": "yrby0adO_ap2"
      },
      "execution_count": 25,
      "outputs": []
    },
    {
      "cell_type": "code",
      "source": [
        "#using with statement (best practice)\n",
        "#the with statement automatically closes to\n",
        "with open (\"example.txt\",\"r\") as fp:\n",
        "    data=fp.read()\n",
        "    print(data)"
      ],
      "metadata": {
        "colab": {
          "base_uri": "https://localhost:8080/"
        },
        "id": "4GVg4ornAZ0g",
        "outputId": "698e2f82-eaa1-4548-a05c-e10f19a74f64"
      },
      "execution_count": 26,
      "outputs": [
        {
          "output_type": "stream",
          "name": "stdout",
          "text": [
            "Hello, B.Tech students!\n",
            "This is file handling in python.\n",
            "sr university\n",
            "madhupriyaAppending new data..\n",
            ".Appending new data..\n",
            "\n"
          ]
        }
      ]
    },
    {
      "cell_type": "code",
      "source": [
        "#working with csv file\n",
        "import csv\n",
        "#writing to csv\n",
        "with open(\"data.csv\",\"w\",newline='')as fp:\n",
        "  wr=csv.writer(fp)\n",
        "  wr.writerows([[\"Name\",\"Age\",\"course\"],[\"aaa\",21,\"CSE\"],[\"bbb\",20,\"ECE\"]])"
      ],
      "metadata": {
        "id": "k8XLPaXqCqO_"
      },
      "execution_count": 27,
      "outputs": []
    },
    {
      "cell_type": "code",
      "source": [
        "#reading from csv\n",
        "with open(\"data.csv\",\"r\") as file:\n",
        "  re=csv.reader(file)\n",
        "  for row in re:\n",
        "    print(row)"
      ],
      "metadata": {
        "colab": {
          "base_uri": "https://localhost:8080/"
        },
        "id": "5ENH0Xx1C5V_",
        "outputId": "0e9c309f-c410-4bf0-aa3a-cb116ab17932"
      },
      "execution_count": 29,
      "outputs": [
        {
          "output_type": "stream",
          "name": "stdout",
          "text": [
            "['Name', 'Age', 'course']\n",
            "['aaa', '21', 'CSE']\n",
            "['bbb', '20', 'ECE']\n"
          ]
        }
      ]
    },
    {
      "cell_type": "code",
      "source": [
        "import numpy as np\n",
        "#1D Array\n",
        "arr1=np.array([1,2,3,4])\n",
        "print(\"1D array:\",arr1)\n",
        "#2d array\n",
        "arr2=np.array([[1,2,3],[4,5,6]])\n",
        "print(\"2D array:\\n\",arr2)\n",
        "#zeros Array\n",
        "zerors_arr=np.zeros((3,3))\n",
        "print(\"zeros array:\\n\",zerors_arr)\n",
        "#ones array\n",
        "ones_arr=np.ones((3,3))\n",
        "print(\"ones array:\\n\",ones_arr)\n",
        "#range of number\n",
        "range_arr=np.arange(0,10,2)\n",
        "#start,stop,step\n",
        "print(\"range array:\",range_arr)\n",
        "#Random Array\n",
        "rand_arr=np.random.rand(3,3)\n",
        "print(\"Random array:\\n\",rand_arr)"
      ],
      "metadata": {
        "colab": {
          "base_uri": "https://localhost:8080/"
        },
        "id": "lc2q6EFsFTR7",
        "outputId": "ce4737b7-3103-4eeb-c5ba-34789aee08ff"
      },
      "execution_count": 36,
      "outputs": [
        {
          "output_type": "stream",
          "name": "stdout",
          "text": [
            "1D array: [1 2 3 4]\n",
            "2D array:\n",
            " [[1 2 3]\n",
            " [4 5 6]]\n",
            "zeros array:\n",
            " [[0. 0. 0.]\n",
            " [0. 0. 0.]\n",
            " [0. 0. 0.]]\n",
            "ones array:\n",
            " [[1. 1. 1.]\n",
            " [1. 1. 1.]\n",
            " [1. 1. 1.]]\n",
            "range array: [0 2 4 6 8]\n",
            "Random array:\n",
            " [[0.19685341 0.55058028 0.63814278]\n",
            " [0.74206755 0.98825059 0.56520504]\n",
            " [0.38125039 0.5787708  0.56721689]]\n"
          ]
        }
      ]
    },
    {
      "cell_type": "code",
      "source": [
        "#Array Attribute\n",
        "arr=np.array([[1,2,3],[4,5,6]])\n",
        "print(\"shape of array:\",arr.shape)\n",
        "print(\"size of array:\",arr.size)\n",
        "print(\"dimension of array:\",arr.ndim)\n",
        "print(\"data type of array:\",arr.dtype)\n",
        "print(\"item size:\",arr.itemsize)"
      ],
      "metadata": {
        "colab": {
          "base_uri": "https://localhost:8080/"
        },
        "id": "gFvHGrOHGpgn",
        "outputId": "7fb1a286-cacd-4d36-bff3-8e19f5349bca"
      },
      "execution_count": 38,
      "outputs": [
        {
          "output_type": "stream",
          "name": "stdout",
          "text": [
            "shape of array: (2, 3)\n",
            "size of array: 6\n",
            "dimension of array: 2\n",
            "data type of array: int64\n",
            "item size: 8\n"
          ]
        }
      ]
    },
    {
      "cell_type": "code",
      "source": [
        "#array index and slicing\n",
        "arr=np.array([10,20,30,40,50])\n",
        "print(\"first element:\",arr[0])\n",
        "print(\"last element:\",arr[-1])\n",
        "print(\"slicing:\",arr[1:4])\n",
        "print(\"every second elemet :\",arr[::2])"
      ],
      "metadata": {
        "colab": {
          "base_uri": "https://localhost:8080/"
        },
        "id": "mJs5f_Y1Kv9t",
        "outputId": "1790c2b0-4746-4439-b5ca-e1f5d4cbee3c"
      },
      "execution_count": 39,
      "outputs": [
        {
          "output_type": "stream",
          "name": "stdout",
          "text": [
            "first element: 10\n",
            "last element: 50\n",
            "slicing: [20 30 40]\n",
            "every second elemet : [10 30 50]\n"
          ]
        }
      ]
    },
    {
      "cell_type": "code",
      "source": [
        "#2D indexing\n",
        "arr2d=np.array([[1,2,3],[4,5,6]])\n",
        "print(\"element at row 1,col1=2:\",arr2[0,1])\n",
        "print(\"second row:\",arr2[1,:])\n",
        "print(\"second column:\",arr2[:,1])"
      ],
      "metadata": {
        "colab": {
          "base_uri": "https://localhost:8080/"
        },
        "id": "U4wXnOtnLJmK",
        "outputId": "eb8bea94-ce60-4eff-f9f5-4859bf4cf58b"
      },
      "execution_count": 40,
      "outputs": [
        {
          "output_type": "stream",
          "name": "stdout",
          "text": [
            "element at row 1,col1=2: 2\n",
            "second row: [4 5 6]\n",
            "second column: [2 5]\n"
          ]
        }
      ]
    },
    {
      "cell_type": "code",
      "source": [
        "#array operations\n",
        "#arthmetic operations\n",
        "a=np.array([1,2,3])\n",
        "b=np.array([4,5,6])\n",
        "print(\"addition:\",a+b)\n",
        "print(\"subtraction:\",a-b)\n",
        "print(\"multiplication:\",a*b)\n",
        "print(\"division:\",a/b)\n",
        "print(\"power:\",a**2)"
      ],
      "metadata": {
        "colab": {
          "base_uri": "https://localhost:8080/"
        },
        "id": "fBabz3znP0Ez",
        "outputId": "cbe78580-a4a2-4871-878b-f55f346915ad"
      },
      "execution_count": 41,
      "outputs": [
        {
          "output_type": "stream",
          "name": "stdout",
          "text": [
            "addition: [5 7 9]\n",
            "subtraction: [-3 -3 -3]\n",
            "multiplication: [ 4 10 18]\n",
            "division: [0.25 0.4  0.5 ]\n",
            "power: [1 4 9]\n"
          ]
        }
      ]
    },
    {
      "cell_type": "code",
      "source": [
        "#Mathemaitcal Functions\n",
        "arr = np.array([1,2,3])\n",
        "print(\"sin\",np.sin(arr))\n",
        "print(\"cos\",np.cos(arr))\n",
        "print(\"tan\",np.tan(arr))\n",
        "print(\"log\",np.log(arr))\n",
        "print(\"exp\",np.exp(arr))"
      ],
      "metadata": {
        "colab": {
          "base_uri": "https://localhost:8080/"
        },
        "id": "CDbnv45tQX2k",
        "outputId": "5129850c-e763-4d81-ea56-fea0d30b272e"
      },
      "execution_count": 44,
      "outputs": [
        {
          "output_type": "stream",
          "name": "stdout",
          "text": [
            "sin [0.84147098 0.90929743 0.14112001]\n",
            "cos [ 0.54030231 -0.41614684 -0.9899925 ]\n",
            "tan [ 1.55740772 -2.18503986 -0.14254654]\n",
            "log [0.         0.69314718 1.09861229]\n",
            "exp [ 2.71828183  7.3890561  20.08553692]\n"
          ]
        }
      ]
    },
    {
      "cell_type": "code",
      "source": [
        "#aggregat functions\n",
        "arr=np.array([[1,2,3],[4,5,6]])\n",
        "print(\"sum of all elements:\",np.sum(arr))\n",
        "print(\"minimum value:\",np.min(arr))\n",
        "print(\"maximum value:\",np.max(arr))\n",
        "print(\"mean value:\",np.mean(arr))\n",
        "print(\"median value:\",np.median(arr))\n",
        "print(\"standard deviation:\",np.std(arr))\n",
        "print(\"sum along axis 0:\",np.sum(arr,axis=0))\n",
        "print(\"sum along axis 1:\",np.sum(arr,axis=1))"
      ],
      "metadata": {
        "colab": {
          "base_uri": "https://localhost:8080/"
        },
        "id": "kw1a98GoROsu",
        "outputId": "44a940f8-f08f-42ed-d63a-a2ed13c5321a"
      },
      "execution_count": 43,
      "outputs": [
        {
          "output_type": "stream",
          "name": "stdout",
          "text": [
            "sum of all elements: 21\n",
            "minimum value: 1\n",
            "maximum value: 6\n",
            "mean value: 3.5\n",
            "median value: 3.5\n",
            "standard deviation: 1.707825127659933\n",
            "sum along axis 0: [5 7 9]\n",
            "sum along axis 1: [ 6 15]\n"
          ]
        }
      ]
    },
    {
      "cell_type": "code",
      "source": [
        "#broad casting\n",
        "a=np.array([1,2,3])\n",
        "b=5\n",
        "print(\"broadcasting:\\n\",a+b)\n",
        "c=np.array([[1],[2],[3]])\n",
        "d=np.array([4,5,6])\n",
        "print(\"broadcasting:\\n\",c+d)"
      ],
      "metadata": {
        "colab": {
          "base_uri": "https://localhost:8080/"
        },
        "id": "aY7HQPSpS_LF",
        "outputId": "24f32087-08ec-4f5b-b3a7-9d824092ad11"
      },
      "execution_count": 46,
      "outputs": [
        {
          "output_type": "stream",
          "name": "stdout",
          "text": [
            "broadcasting:\n",
            " [6 7 8]\n",
            "broadcasting:\n",
            " [[5 6 7]\n",
            " [6 7 8]\n",
            " [7 8 9]]\n"
          ]
        }
      ]
    },
    {
      "cell_type": "code",
      "source": [
        "#matrix operations\n",
        "a=np.array([[1,2],[3,4]])\n",
        "b=np.array([[5,6],[7,8]])\n",
        "print(\"matrix multipication:\\n\",np.dot(a,b))\n",
        "print(\"transpose:\\n\",a.T)\n",
        "print(\"inverse:\\n\",np.linalg.inv(a))\n",
        "print(\"determinant:\\n\",np.linalg.det(a))\n"
      ],
      "metadata": {
        "colab": {
          "base_uri": "https://localhost:8080/"
        },
        "id": "DccGGZYhT1p4",
        "outputId": "3dd37f39-d7ed-49b5-8fcf-11b67273313a"
      },
      "execution_count": 50,
      "outputs": [
        {
          "output_type": "stream",
          "name": "stdout",
          "text": [
            "matrix multipication:\n",
            " [[19 22]\n",
            " [43 50]]\n",
            "transpose:\n",
            " [[1 3]\n",
            " [2 4]]\n",
            "inverse:\n",
            " [[-2.   1. ]\n",
            " [ 1.5 -0.5]]\n",
            "determinant:\n",
            " -2.0000000000000004\n"
          ]
        }
      ]
    },
    {
      "cell_type": "code",
      "source": [
        "#sample program student marks\n",
        "import numpy as np\n",
        "marks = np.array([\n",
        "[85, 90, 88],\n",
        "[78, 81, 85],\n",
        "[92, 89, 95]\n",
        "])\n",
        "print(\"Average marks per student:\", np.mean(marks, axis=1))\n",
        "print(\"Average marks per subject:\", np.mean(marks, axis=0))\n",
        "print(\"Highest marks in each subject:\", np.max(marks, axis=0))\n",
        "print(\"Lowest marks in each subject:\", np.min(marks, axis=0))"
      ],
      "metadata": {
        "colab": {
          "base_uri": "https://localhost:8080/"
        },
        "id": "GVeV4X4yV7Wk",
        "outputId": "7ad8f91c-42be-4c17-dad5-9fbe54282515"
      },
      "execution_count": 51,
      "outputs": [
        {
          "output_type": "stream",
          "name": "stdout",
          "text": [
            "Average marks per student: [87.66666667 81.33333333 92.        ]\n",
            "Average marks per subject: [85.         86.66666667 89.33333333]\n",
            "Highest marks in each subject: [92 90 95]\n",
            "Lowest marks in each subject: [78 81 85]\n"
          ]
        }
      ]
    }
  ]
}