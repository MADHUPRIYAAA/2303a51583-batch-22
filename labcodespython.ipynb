{
  "nbformat": 4,
  "nbformat_minor": 0,
  "metadata": {
    "colab": {
      "provenance": [],
      "authorship_tag": "ABX9TyPNxG6irWH1lTZVPhmdYu7O",
      "include_colab_link": true
    },
    "kernelspec": {
      "name": "python3",
      "display_name": "Python 3"
    },
    "language_info": {
      "name": "python"
    }
  },
  "cells": [
    {
      "cell_type": "markdown",
      "metadata": {
        "id": "view-in-github",
        "colab_type": "text"
      },
      "source": [
        "<a href=\"https://colab.research.google.com/github/MADHUPRIYAAA/2303a51583-batch-22/blob/main/labcodespython.ipynb\" target=\"_parent\"><img src=\"https://colab.research.google.com/assets/colab-badge.svg\" alt=\"Open In Colab\"/></a>"
      ]
    },
    {
      "cell_type": "code",
      "execution_count": 1,
      "metadata": {
        "colab": {
          "base_uri": "https://localhost:8080/"
        },
        "id": "zl72mMfoHia7",
        "outputId": "fd0df8e0-5385-4436-a8e9-756f644350f7"
      },
      "outputs": [
        {
          "output_type": "stream",
          "name": "stdout",
          "text": [
            "<class 'int'> 10\n",
            "<class 'float'> 99.9\n",
            "<class 'str'> cse\n",
            "[10, 20, 30, 40]\n",
            "found\n",
            "[10, 20, 30, 40, 50]\n",
            "[10, 20, 40, 50]\n",
            "[10, 20, 25, 40, 50]\n",
            "[10, 20, 25, 40]\n",
            "[9, 16, 26, 45, 56, 92]\n",
            "[92, 56, 45, 26, 16, 9]\n",
            "244\n",
            "9\n",
            "92\n",
            "[[1, 2, 3], [4, 5, 6], [7, 8, 9]]\n"
          ]
        }
      ],
      "source": [
        "l=[10,99.9,\"cse\"]\n",
        "for i in l:\n",
        "    print(type(i),i)\n",
        "#list\n",
        "l=[10,20,30,40]\n",
        "print(l)\n",
        "if 20 in l:\n",
        "    print(\"found\")\n",
        "else:\n",
        "    print(\"notfound\")\n",
        "##\n",
        "l=[10,20,30,40]\n",
        "l.append(50)\n",
        "print(l)\n",
        "l.remove(30)\n",
        "print(l)\n",
        "l.insert(2,25)\n",
        "print(l)\n",
        "l.pop()\n",
        "print(l)\n",
        "###\n",
        "l=[9,26,92,56,45,16]\n",
        "l.sort()\n",
        "print(l)\n",
        "l.reverse()\n",
        "print(l)\n",
        "print(sum(l))\n",
        "print(min(l))\n",
        "print(max(l))\n",
        "\n",
        "#### nestedlist\n",
        "l=[[1,2,3],\n",
        "   [4,5,6],\n",
        "   [7,8,9]]\n",
        "print(l)\n",
        "\n",
        "\n"
      ]
    },
    {
      "cell_type": "code",
      "source": [
        "##tuple\n",
        "t=(10,20,30,40)\n",
        "print(t)\n",
        "t=(10,20,30,10,20)\n",
        "print(t)\n",
        "t=(1,99.9,\"CSE\")\n",
        "print(t)\n",
        "for i in t:\n",
        "    print(type(i),i)\n",
        "if 20 in t:\n",
        "    print(\"found\")\n",
        "else:\n",
        "    print(\"not found\")\n",
        "##\n",
        "t=(1,2,3,2,3,2,4)\n",
        "print(t.count(2))\n",
        "print(t.index(4))\n",
        "##\n",
        "l=[10,20,30,40]\n",
        "mytuple=tuple(l)\n",
        "print(mytuple)\n",
        "\n"
      ],
      "metadata": {
        "colab": {
          "base_uri": "https://localhost:8080/"
        },
        "id": "eIf5JatcHqA6",
        "outputId": "9062d797-b3a7-4ce1-9e58-eb53c18f3466"
      },
      "execution_count": 3,
      "outputs": [
        {
          "output_type": "stream",
          "name": "stdout",
          "text": [
            "(10, 20, 30, 40)\n",
            "(10, 20, 30, 10, 20)\n",
            "(1, 99.9, 'CSE')\n",
            "<class 'int'> 1\n",
            "<class 'float'> 99.9\n",
            "<class 'str'> CSE\n",
            "not found\n",
            "3\n",
            "6\n",
            "(10, 20, 30, 40)\n"
          ]
        }
      ]
    },
    {
      "cell_type": "code",
      "source": [
        "#dictionary\n",
        "#dictonary\n",
        "d={'name':'phyton','id':'101','branch':'cse'}\n",
        "print(d.keys())\n",
        "print(d.values())\n",
        "print(d.items())\n",
        "for key in d:\n",
        "    print(key)"
      ],
      "metadata": {
        "colab": {
          "base_uri": "https://localhost:8080/"
        },
        "id": "r1Q6K-LiHv5p",
        "outputId": "5080bc6a-4387-4d69-86d0-6c5648ee1d4a"
      },
      "execution_count": 5,
      "outputs": [
        {
          "output_type": "stream",
          "name": "stdout",
          "text": [
            "dict_keys(['name', 'id', 'branch'])\n",
            "dict_values(['phyton', '101', 'cse'])\n",
            "dict_items([('name', 'phyton'), ('id', '101'), ('branch', 'cse')])\n",
            "name\n",
            "id\n",
            "branch\n"
          ]
        }
      ]
    },
    {
      "cell_type": "code",
      "source": [
        "#sets\n",
        "s={1,2,3,4}\n",
        "print(s)\n",
        "s={1,2,3,2,3,2}\n",
        "print(s)\n",
        "for i in s:\n",
        "    print(i)\n",
        "if 2 in s:\n",
        "    print(\"found\")\n",
        "else:\n",
        "    print(\"not found\")\n",
        "a={1,2,3}\n",
        "b={3,4,5}\n",
        "print(\"union\",a|b)\n",
        "print(\"intersection\",a&b)\n",
        "print(\"difference\",a-b)\n",
        "print(\"symmetricdifference\",a^b)\n",
        "s={1,2,3}\n",
        "s.add(4)\n",
        "print(s)\n",
        "s.remove(2)\n",
        "print(s)\n",
        "s.clear()\n",
        "print(s)"
      ],
      "metadata": {
        "colab": {
          "base_uri": "https://localhost:8080/"
        },
        "id": "OGsDTOKBIWB2",
        "outputId": "e39c4d9c-6b99-4e7e-fac9-7b21d79ca434"
      },
      "execution_count": 4,
      "outputs": [
        {
          "output_type": "stream",
          "name": "stdout",
          "text": [
            "{1, 2, 3, 4}\n",
            "{1, 2, 3}\n",
            "1\n",
            "2\n",
            "3\n",
            "found\n",
            "union {1, 2, 3, 4, 5}\n",
            "intersection {3}\n",
            "difference {1, 2}\n",
            "symmetricdifference {1, 2, 4, 5}\n",
            "{1, 2, 3, 4}\n",
            "{1, 3, 4}\n",
            "set()\n"
          ]
        }
      ]
    }
  ]
}