{
  "nbformat": 4,
  "nbformat_minor": 0,
  "metadata": {
    "colab": {
      "provenance": [],
      "authorship_tag": "ABX9TyM8/rzc5y02M2i6/bk+u/O9",
      "include_colab_link": true
    },
    "kernelspec": {
      "name": "python3",
      "display_name": "Python 3"
    },
    "language_info": {
      "name": "python"
    }
  },
  "cells": [
    {
      "cell_type": "markdown",
      "metadata": {
        "id": "view-in-github",
        "colab_type": "text"
      },
      "source": [
        "<a href=\"https://colab.research.google.com/github/MADHUPRIYAAA/2303a51583-batch-22/blob/main/lab%203.ipynb\" target=\"_parent\"><img src=\"https://colab.research.google.com/assets/colab-badge.svg\" alt=\"Open In Colab\"/></a>"
      ]
    },
    {
      "cell_type": "code",
      "execution_count": 1,
      "metadata": {
        "colab": {
          "base_uri": "https://localhost:8080/"
        },
        "id": "fFulgOE6Yrwz",
        "outputId": "c33a9797-d6b5-43cc-a4dc-91979d733ece"
      },
      "outputs": [
        {
          "output_type": "stream",
          "name": "stdout",
          "text": [
            "Test Scores (4x4 array):\n",
            " [[90 67 53 55]\n",
            " [68 98 88 90]\n",
            " [58 69 54 55]\n",
            " [72 91 95 78]]\n",
            "\n",
            "Row-wise Means: [66.25 86.   59.   84.  ]\n",
            "Column-wise Means: [72.   81.25 72.5  69.5 ]\n",
            "\n",
            "Standard Deviation: 15.736973779923508\n",
            "Variance: 247.65234375\n",
            "\n",
            "Global Max: 98 at index (np.int64(1), np.int64(1))\n",
            "Global Min: 53 at index (np.int64(0), np.int64(2))\n",
            "\n",
            "Summary:\n",
            "Row means: [66.25 86.   59.   84.  ]\n",
            "Column means: [72.   81.25 72.5  69.5 ]\n",
            "Std Dev: 15.74, Variance: 247.65\n",
            "Max value 98 at (np.int64(1), np.int64(1)), Min value 53 at (np.int64(0), np.int64(2))\n"
          ]
        }
      ],
      "source": [
        "import numpy as np\n",
        "\n",
        "# Generate 4x4 array with random test scores (0-100)\n",
        "scores = np.random.randint(50, 100, size=(4, 4))\n",
        "print(\"Test Scores (4x4 array):\\n\", scores)\n",
        "# Row-wise and Column-wise Means\n",
        "row_means = np.mean(scores, axis=1)\n",
        "col_means = np.mean(scores, axis=0)\n",
        "print(\"\\nRow-wise Means:\", row_means)\n",
        "print(\"Column-wise Means:\", col_means)\n",
        "# Standard Deviation and Variance\n",
        "std_dev = np.std(scores)\n",
        "variance = np.var(scores)\n",
        "print(\"\\nStandard Deviation:\", std_dev)\n",
        "print(\"Variance:\", variance)\n",
        "# Global max, min, and their indices\n",
        "global_max = np.max(scores)\n",
        "global_min = np.min(scores)\n",
        "max_index = np.unravel_index(np.argmax(scores), scores.shape)\n",
        "min_index = np.unravel_index(np.argmin(scores), scores.shape)\n",
        "print(\"\\nGlobal Max:\", global_max, \"at index\", max_index)\n",
        "print(\"Global Min:\", global_min, \"at index\", min_index)\n",
        "# Summary\n",
        "print(\"\\nSummary:\")\n",
        "print(f\"Row means: {row_means}\")\n",
        "print(f\"Column means: {col_means}\")\n",
        "print(f\"Std Dev: {std_dev:.2f}, Variance: {variance:.2f}\")\n",
        "print(f\"Max value {global_max} at {max_index}, Min value {global_min} at {min_index}\")\n"
      ]
    },
    {
      "cell_type": "code",
      "source": [
        "import numpy as np\n",
        "# Create a 3x3x3 RGB image array with pixel values 0–255\n",
        "image = np.random.randint(0, 256, size=(3, 3, 3))\n",
        "print(\"Original Image (3x3x3):\\n\", image)\n",
        "# Extract Red, Green, Blue channels\n",
        "red_channel = image[:, :, 0]\n",
        "green_channel = image[:, :, 1]\n",
        "blue_channel = image[:, :, 2]\n",
        "print(\"\\nRed Channel:\\n\", red_channel)\n",
        "print(\"Green Channel:\\n\", green_channel)\n",
        "print(\"Blue Channel:\\n\", blue_channel)\n",
        "# Average intensity per channel\n",
        "avg_red = np.mean(red_channel)\n",
        "avg_green = np.mean(green_channel)\n",
        "avg_blue = np.mean(blue_channel)\n",
        "print(\"\\nAverage Intensities:\")\n",
        "print(f\"Red: {avg_red:.2f}, Green: {avg_green:.2f}, Blue: {avg_blue:.2f}\")\n",
        "# Brighten image by adding 50 (clip at 255)\n",
        "brightened = np.clip(image + 50, 0, 255)\n",
        "print(\"\\nBrightened Image (clipped at 255):\\n\", brightened)\n"
      ],
      "metadata": {
        "colab": {
          "base_uri": "https://localhost:8080/"
        },
        "id": "t-VncUe8Y2LI",
        "outputId": "10b16f8a-6c11-4ba5-879a-0c770d39f098"
      },
      "execution_count": 2,
      "outputs": [
        {
          "output_type": "stream",
          "name": "stdout",
          "text": [
            "Original Image (3x3x3):\n",
            " [[[  2 215  48]\n",
            "  [ 78 203 203]\n",
            "  [148 195 120]]\n",
            "\n",
            " [[ 40  98  62]\n",
            "  [  8 231  56]\n",
            "  [ 54 130 160]]\n",
            "\n",
            " [[237 148 240]\n",
            "  [196  90 254]\n",
            "  [255 211  88]]]\n",
            "\n",
            "Red Channel:\n",
            " [[  2  78 148]\n",
            " [ 40   8  54]\n",
            " [237 196 255]]\n",
            "Green Channel:\n",
            " [[215 203 195]\n",
            " [ 98 231 130]\n",
            " [148  90 211]]\n",
            "Blue Channel:\n",
            " [[ 48 203 120]\n",
            " [ 62  56 160]\n",
            " [240 254  88]]\n",
            "\n",
            "Average Intensities:\n",
            "Red: 113.11, Green: 169.00, Blue: 136.78\n",
            "\n",
            "Brightened Image (clipped at 255):\n",
            " [[[ 52 255  98]\n",
            "  [128 253 253]\n",
            "  [198 245 170]]\n",
            "\n",
            " [[ 90 148 112]\n",
            "  [ 58 255 106]\n",
            "  [104 180 210]]\n",
            "\n",
            " [[255 198 255]\n",
            "  [246 140 255]\n",
            "  [255 255 138]]]\n"
          ]
        }
      ]
    }
  ]
}